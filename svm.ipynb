{
 "cells": [
  {
   "cell_type": "code",
   "execution_count": 16,
   "outputs": [],
   "source": [
    "from sklearn.svm import SVC\n",
    "import numpy as np\n",
    "import pandas as pd\n",
    "from sklearn.model_selection import train_test_split"
   ],
   "metadata": {
    "collapsed": false,
    "ExecuteTime": {
     "start_time": "2023-08-15T20:36:15.030131Z",
     "end_time": "2023-08-15T20:36:15.035984Z"
    }
   }
  },
  {
   "cell_type": "code",
   "execution_count": 17,
   "outputs": [],
   "source": [
    "svm = SVC(kernel='linear',C=1)"
   ],
   "metadata": {
    "collapsed": false,
    "ExecuteTime": {
     "start_time": "2023-08-15T20:36:15.218208Z",
     "end_time": "2023-08-15T20:36:15.223626Z"
    }
   }
  },
  {
   "cell_type": "code",
   "execution_count": 31,
   "outputs": [],
   "source": [
    "LA_LAkernal = pd.read_csv(f'./Result/Code_Result/LosAngeles_dis_count_rgb_withBueKernel_modified.csv')\n",
    "Bue_LAkernal = pd.read_csv(f'./Result/Code_Result/BuenosAires_dis_count_rgb_withBueKernel_modified.csv')"
   ],
   "metadata": {
    "collapsed": false,
    "ExecuteTime": {
     "start_time": "2023-08-15T21:36:48.483740Z",
     "end_time": "2023-08-15T21:36:48.495003Z"
    }
   }
  },
  {
   "cell_type": "code",
   "execution_count": 32,
   "outputs": [],
   "source": [
    "LA_withB_np = LA_LAkernal.values[:,1:]\n",
    "Bue_np = Bue_LAkernal.values[:,1:]"
   ],
   "metadata": {
    "collapsed": false,
    "ExecuteTime": {
     "start_time": "2023-08-15T21:36:48.933709Z",
     "end_time": "2023-08-15T21:36:48.938225Z"
    }
   }
  },
  {
   "cell_type": "code",
   "execution_count": 33,
   "outputs": [],
   "source": [
    "dataset = np.concatenate((LA_withB_np,Bue_np),axis=0)"
   ],
   "metadata": {
    "collapsed": false,
    "ExecuteTime": {
     "start_time": "2023-08-15T21:36:49.283633Z",
     "end_time": "2023-08-15T21:36:49.285219Z"
    }
   }
  },
  {
   "cell_type": "code",
   "execution_count": 34,
   "outputs": [
    {
     "data": {
      "text/plain": "array([[0.0001860984460779, 0.0026984274681306, 0.2427188982971992, ...,\n        0.0006978691727924, 'LosAngeles',\n        'LosAngeles_0000776_2014_03_319_34.05330975954035_-118.2492702176233_v-fUrI9TqL063X0LDtYoOw.jpg'],\n       [0.0, 0.0090497737556561, 0.3240515140967629, ...,\n        0.0281935259310824, 'LosAngeles',\n        'LosAngeles_0000806_2009_04_392_34.05435179626063_-118.2552995922054_Tknfl8YVEsZjVpltTzRAVQ.jpg'],\n       [0.0094928125847572, 0.4420938432329807, 0.0, ...,\n        0.0037971250339029, 'LosAngeles',\n        'LosAngeles_0000657_2014_03_140_34.05039457284261_-118.2598544272056_a5imXKIItXP_v_JGgfv4EQ.jpg'],\n       ...,\n       [0.0013352323304254, 0.0202065159337724, 0.1259569165034716, ...,\n        0.0496706426918283, 'BuenosAires',\n        'BuenosAires_0000666_2013_10_386_-34.6031675264307_-58.40853101837855_ZLjpV3OuiremuA1v-nN2XQ.jpg'],\n       [0.0001572821642025, 0.0022805913809374, 0.5176942434727901, ...,\n        0.002988361119849, 'BuenosAires',\n        'BuenosAires_0000449_2016_11_154_-34.61211159173956_-58.36498062129008_xsVRrjM7b48YZfKdz3Km9A.jpg'],\n       [0.0, 0.001355110191855, 0.0397261250980671, ...,\n        0.00028528635618, 'BuenosAires',\n        'BuenosAires_0001205_2013_10_569_-34.58384657375695_-58.39969423967879_cOD2xtUJfmBE3km7YFmuhA.jpg']],\n      dtype=object)"
     },
     "execution_count": 34,
     "metadata": {},
     "output_type": "execute_result"
    }
   ],
   "source": [
    "dataset"
   ],
   "metadata": {
    "collapsed": false,
    "ExecuteTime": {
     "start_time": "2023-08-15T21:36:49.661774Z",
     "end_time": "2023-08-15T21:36:49.680237Z"
    }
   }
  },
  {
   "cell_type": "code",
   "execution_count": 40,
   "outputs": [],
   "source": [
    "X = dataset[:,:8]\n",
    "y = dataset[:,8:10]"
   ],
   "metadata": {
    "collapsed": false,
    "ExecuteTime": {
     "start_time": "2023-08-15T21:37:06.009798Z",
     "end_time": "2023-08-15T21:37:06.011950Z"
    }
   }
  },
  {
   "cell_type": "code",
   "execution_count": 41,
   "outputs": [],
   "source": [
    "X_train, X_test, y_train, y_test = train_test_split(X,y,test_size=0.33,random_state=42)"
   ],
   "metadata": {
    "collapsed": false,
    "ExecuteTime": {
     "start_time": "2023-08-15T21:37:06.294502Z",
     "end_time": "2023-08-15T21:37:06.300242Z"
    }
   }
  },
  {
   "cell_type": "code",
   "execution_count": 42,
   "outputs": [],
   "source": [
    "city2label = {\n",
    "    'BuenosAires':'0',\n",
    "    'LosAngeles':'1'\n",
    "}"
   ],
   "metadata": {
    "collapsed": false,
    "ExecuteTime": {
     "start_time": "2023-08-15T21:37:06.578691Z",
     "end_time": "2023-08-15T21:37:06.584342Z"
    }
   }
  },
  {
   "cell_type": "code",
   "execution_count": 43,
   "outputs": [],
   "source": [
    "y_train_label,y_train_name = y_train[:,0],y_train[:,1]\n",
    "y_test_label,y_test_name = y_test[:,0],y_test[:,1]"
   ],
   "metadata": {
    "collapsed": false,
    "ExecuteTime": {
     "start_time": "2023-08-15T21:37:06.903046Z",
     "end_time": "2023-08-15T21:37:06.910200Z"
    }
   }
  },
  {
   "cell_type": "code",
   "execution_count": 44,
   "outputs": [],
   "source": [
    "y_train_label = np.array([city2label[i] for i in y_train_label])"
   ],
   "metadata": {
    "collapsed": false,
    "ExecuteTime": {
     "start_time": "2023-08-15T21:37:07.187959Z",
     "end_time": "2023-08-15T21:37:07.190514Z"
    }
   }
  },
  {
   "cell_type": "code",
   "execution_count": 45,
   "outputs": [],
   "source": [
    "y_test_label = np.array([city2label[i] for i in y_test_label])"
   ],
   "metadata": {
    "collapsed": false,
    "ExecuteTime": {
     "start_time": "2023-08-15T21:37:07.537203Z",
     "end_time": "2023-08-15T21:37:07.538765Z"
    }
   }
  },
  {
   "cell_type": "code",
   "execution_count": 46,
   "outputs": [
    {
     "data": {
      "text/plain": "SVC(C=1, kernel='linear')",
      "text/html": "<style>#sk-container-id-3 {color: black;}#sk-container-id-3 pre{padding: 0;}#sk-container-id-3 div.sk-toggleable {background-color: white;}#sk-container-id-3 label.sk-toggleable__label {cursor: pointer;display: block;width: 100%;margin-bottom: 0;padding: 0.3em;box-sizing: border-box;text-align: center;}#sk-container-id-3 label.sk-toggleable__label-arrow:before {content: \"▸\";float: left;margin-right: 0.25em;color: #696969;}#sk-container-id-3 label.sk-toggleable__label-arrow:hover:before {color: black;}#sk-container-id-3 div.sk-estimator:hover label.sk-toggleable__label-arrow:before {color: black;}#sk-container-id-3 div.sk-toggleable__content {max-height: 0;max-width: 0;overflow: hidden;text-align: left;background-color: #f0f8ff;}#sk-container-id-3 div.sk-toggleable__content pre {margin: 0.2em;color: black;border-radius: 0.25em;background-color: #f0f8ff;}#sk-container-id-3 input.sk-toggleable__control:checked~div.sk-toggleable__content {max-height: 200px;max-width: 100%;overflow: auto;}#sk-container-id-3 input.sk-toggleable__control:checked~label.sk-toggleable__label-arrow:before {content: \"▾\";}#sk-container-id-3 div.sk-estimator input.sk-toggleable__control:checked~label.sk-toggleable__label {background-color: #d4ebff;}#sk-container-id-3 div.sk-label input.sk-toggleable__control:checked~label.sk-toggleable__label {background-color: #d4ebff;}#sk-container-id-3 input.sk-hidden--visually {border: 0;clip: rect(1px 1px 1px 1px);clip: rect(1px, 1px, 1px, 1px);height: 1px;margin: -1px;overflow: hidden;padding: 0;position: absolute;width: 1px;}#sk-container-id-3 div.sk-estimator {font-family: monospace;background-color: #f0f8ff;border: 1px dotted black;border-radius: 0.25em;box-sizing: border-box;margin-bottom: 0.5em;}#sk-container-id-3 div.sk-estimator:hover {background-color: #d4ebff;}#sk-container-id-3 div.sk-parallel-item::after {content: \"\";width: 100%;border-bottom: 1px solid gray;flex-grow: 1;}#sk-container-id-3 div.sk-label:hover label.sk-toggleable__label {background-color: #d4ebff;}#sk-container-id-3 div.sk-serial::before {content: \"\";position: absolute;border-left: 1px solid gray;box-sizing: border-box;top: 0;bottom: 0;left: 50%;z-index: 0;}#sk-container-id-3 div.sk-serial {display: flex;flex-direction: column;align-items: center;background-color: white;padding-right: 0.2em;padding-left: 0.2em;position: relative;}#sk-container-id-3 div.sk-item {position: relative;z-index: 1;}#sk-container-id-3 div.sk-parallel {display: flex;align-items: stretch;justify-content: center;background-color: white;position: relative;}#sk-container-id-3 div.sk-item::before, #sk-container-id-3 div.sk-parallel-item::before {content: \"\";position: absolute;border-left: 1px solid gray;box-sizing: border-box;top: 0;bottom: 0;left: 50%;z-index: -1;}#sk-container-id-3 div.sk-parallel-item {display: flex;flex-direction: column;z-index: 1;position: relative;background-color: white;}#sk-container-id-3 div.sk-parallel-item:first-child::after {align-self: flex-end;width: 50%;}#sk-container-id-3 div.sk-parallel-item:last-child::after {align-self: flex-start;width: 50%;}#sk-container-id-3 div.sk-parallel-item:only-child::after {width: 0;}#sk-container-id-3 div.sk-dashed-wrapped {border: 1px dashed gray;margin: 0 0.4em 0.5em 0.4em;box-sizing: border-box;padding-bottom: 0.4em;background-color: white;}#sk-container-id-3 div.sk-label label {font-family: monospace;font-weight: bold;display: inline-block;line-height: 1.2em;}#sk-container-id-3 div.sk-label-container {text-align: center;}#sk-container-id-3 div.sk-container {/* jupyter's `normalize.less` sets `[hidden] { display: none; }` but bootstrap.min.css set `[hidden] { display: none !important; }` so we also need the `!important` here to be able to override the default hidden behavior on the sphinx rendered scikit-learn.org. See: https://github.com/scikit-learn/scikit-learn/issues/21755 */display: inline-block !important;position: relative;}#sk-container-id-3 div.sk-text-repr-fallback {display: none;}</style><div id=\"sk-container-id-3\" class=\"sk-top-container\"><div class=\"sk-text-repr-fallback\"><pre>SVC(C=1, kernel=&#x27;linear&#x27;)</pre><b>In a Jupyter environment, please rerun this cell to show the HTML representation or trust the notebook. <br />On GitHub, the HTML representation is unable to render, please try loading this page with nbviewer.org.</b></div><div class=\"sk-container\" hidden><div class=\"sk-item\"><div class=\"sk-estimator sk-toggleable\"><input class=\"sk-toggleable__control sk-hidden--visually\" id=\"sk-estimator-id-3\" type=\"checkbox\" checked><label for=\"sk-estimator-id-3\" class=\"sk-toggleable__label sk-toggleable__label-arrow\">SVC</label><div class=\"sk-toggleable__content\"><pre>SVC(C=1, kernel=&#x27;linear&#x27;)</pre></div></div></div></div></div>"
     },
     "execution_count": 46,
     "metadata": {},
     "output_type": "execute_result"
    }
   ],
   "source": [
    "svm.fit(X_train,y_train_label)"
   ],
   "metadata": {
    "collapsed": false,
    "ExecuteTime": {
     "start_time": "2023-08-15T21:37:07.960372Z",
     "end_time": "2023-08-15T21:37:07.999862Z"
    }
   }
  },
  {
   "cell_type": "code",
   "execution_count": 47,
   "outputs": [],
   "source": [
    "predict = svm.predict(X_test)"
   ],
   "metadata": {
    "collapsed": false,
    "ExecuteTime": {
     "start_time": "2023-08-15T21:37:08.324567Z",
     "end_time": "2023-08-15T21:37:08.337596Z"
    }
   }
  },
  {
   "cell_type": "code",
   "execution_count": 48,
   "outputs": [
    {
     "data": {
      "text/plain": "0.6339092872570194"
     },
     "execution_count": 48,
     "metadata": {},
     "output_type": "execute_result"
    }
   ],
   "source": [
    "np.sum(predict == y_test_label) / len(predict)"
   ],
   "metadata": {
    "collapsed": false,
    "ExecuteTime": {
     "start_time": "2023-08-15T21:37:08.668921Z",
     "end_time": "2023-08-15T21:37:08.672415Z"
    }
   }
  },
  {
   "cell_type": "markdown",
   "source": [
    "k = 16 64.735"
   ],
   "metadata": {
    "collapsed": false
   }
  },
  {
   "cell_type": "code",
   "execution_count": 93,
   "outputs": [
    {
     "data": {
      "text/plain": "(array([  78,  126,  657, 1256]),)"
     },
     "execution_count": 93,
     "metadata": {},
     "output_type": "execute_result"
    }
   ],
   "source": [
    "np.where((predict == y_test_label) == False)"
   ],
   "metadata": {
    "collapsed": false,
    "ExecuteTime": {
     "start_time": "2023-08-06T12:58:16.504537Z",
     "end_time": "2023-08-06T12:58:16.513137Z"
    }
   }
  },
  {
   "cell_type": "code",
   "execution_count": 106,
   "outputs": [
    {
     "name": "stdout",
     "output_type": "stream",
     "text": [
      "[0.4737762237762238 0.0034965034965034 0.0034965034965034 0.0 0.0\n",
      " 0.0279720279720279 0.486013986013986 0.0052447552447552]\n"
     ]
    }
   ],
   "source": [
    "print(X_test[1256])"
   ],
   "metadata": {
    "collapsed": false,
    "ExecuteTime": {
     "start_time": "2023-08-06T13:14:33.921785Z",
     "end_time": "2023-08-06T13:14:33.925036Z"
    }
   }
  },
  {
   "cell_type": "code",
   "execution_count": 94,
   "outputs": [
    {
     "data": {
      "text/plain": "array([[0.9276763336913711, 0.0025062656641604, 0.0, 0.0, 0.0, 0.0, 0.0,\n        0.0698174006444683, 'LosAngeles',\n        'LosAngeles_0000000_2009_04_349_34.03206494429377_-118.2687816320888_tZDWhTSSOND_cUDjVnKBvw.jpg'],\n       [0.7599001663893511, 0.0, 0.1156405990016638, 0.0001663893510815,\n        0.0008319467554076, 0.0, 0.0901830282861896, 0.0332778702163061,\n        'LosAngeles',\n        'LosAngeles_0000000_2014_05_345_34.03205228756106_-118.2687736909465_mN3qmG5aUddC0Zm31qnthA.jpg'],\n       [0.7189798921039725, 0.0, 0.075649828347229, 0.0,\n        0.0004904364884747, 0.0, 0.192251103482099, 0.0126287395782246,\n        'LosAngeles',\n        'LosAngeles_0000000_2015_03_342_34.03205250798099_-118.268774871231_WNl9ZzYN5TVHHn2-heUE8w.jpg'],\n       [0.5379064845102944, 0.0, 0.0365595535886088, 0.0001924187030979,\n        0.0018279776794304, 0.0, 0.3709832595728304, 0.0525303059457379,\n        'LosAngeles',\n        'LosAngeles_0000000_2019_04_333_34.03204732470335_-118.2687749324978_qtDBXMO3srO6xvxL74jyAQ.jpg'],\n       [0.2196721311475409, 0.0, 0.0, 0.0, 0.0032786885245901, 0.0,\n        0.7737704918032787, 0.0032786885245901, 'LosAngeles',\n        'LosAngeles_0000000_2020_03_327_34.03206169234912_-118.2687661239507_UYNSv2uYgOvUSESHua25ng.jpg'],\n       [0.8049645390070922, 0.0, 0.0466058763931104, 0.0002532928064842,\n        0.0027862208713272, 0.0, 0.1013171225937183, 0.0440729483282674,\n        'LosAngeles',\n        'LosAngeles_0000002_2011_05_461_34.03217843808274_-118.2669752906605_YuIVNaMR1bYPd1g1qi6PeQ.jpg'],\n       [0.2230447376890891, 0.0, 0.0025748310267138, 0.0,\n        0.0090119085934985, 0.0, 0.6097521725136787, 0.1556163501770196,\n        'LosAngeles',\n        'LosAngeles_0000002_2014_04_472_34.0322066247297_-118.266965751493_6DgbbYP9Vg-CVhSrEpjGkg.jpg'],\n       [0.8959156785243741, 0.0, 0.0239789196310935, 0.0005270092226613,\n        0.0, 0.0, 0.0181818181818181, 0.0613965744400527, 'LosAngeles',\n        'LosAngeles_0000002_2019_03_474_34.0322008567538_-118.2669590187201_UdReCSZ5NzJUHk3gyppfCQ.jpg'],\n       [0.9420684752991352, 0.0001184693756663, 0.0002369387513327, 0.0,\n        0.0246416301386091, 0.0, 0.0, 0.0329344864352564, 'LosAngeles',\n        'LosAngeles_0000002_2020_03_477_34.0321802532151_-118.2669721176923_Vsx2xRGIHbTnYrNARx4RkQ.jpg'],\n       [0.9724154473494844, 0.0002398656752218, 0.0016790597265531, 0.0,\n        0.0002398656752218, 0.0, 0.0, 0.0254257615735188, 'LosAngeles',\n        'LosAngeles_0000003_2020_03_398_34.03185376561017_-118.2662457848227_413gdfVpJu3jlYcetDvkNw.jpg']],\n      dtype=object)"
     },
     "execution_count": 94,
     "metadata": {},
     "output_type": "execute_result"
    }
   ],
   "source": [
    "LA_withB_np[:10]"
   ],
   "metadata": {
    "collapsed": false,
    "ExecuteTime": {
     "start_time": "2023-08-06T12:58:28.477377Z",
     "end_time": "2023-08-06T12:58:28.485933Z"
    }
   }
  },
  {
   "cell_type": "code",
   "execution_count": 50,
   "outputs": [
    {
     "data": {
      "text/plain": "array([[0.1164658634538152, 0.3775100401606425, 0.0305220883534136, 0.0,\n        0.0, 0.2730923694779116, 0.1405622489959839, 0.0618473895582329,\n        'BuenosAires',\n        'BuenosAires_0000002_2013_10_527_-34.62747324853723_-58.4205645899894_qaGmmFg5L2XJS3gg1G-T_w.jpg'],\n       [0.1647619732144996, 0.158317161407796, 0.0675627111334722,\n        0.0326313519729749, 0.0939409185653705, 0.1522556841323462,\n        0.1741297108220129, 0.1564004887515273, 'BuenosAires',\n        'BuenosAires_0000002_2017_11_534_-34.62748768460501_-58.42055101764163_mnRsxXum5o9HUk-qF0v0zQ.jpg'],\n       [0.1503944773175542, 0.1365877712031558, 0.0399408284023668,\n        0.0547337278106508, 0.1538461538461538, 0.1099605522682445,\n        0.1691321499013806, 0.1854043392504931, 'BuenosAires',\n        'BuenosAires_0000003_2013_10_404_-34.62729593651334_-58.41898399723422_9V7ntN3mq3KwnfG57BMTTQ.jpg'],\n       [0.1301184590989646, 0.1667754873612536, 0.0697696110437459,\n        0.0430929950564313, 0.1223766439697789, 0.1605260703292603,\n        0.1494263594813916, 0.1579143736591735, 'BuenosAires',\n        'BuenosAires_0000003_2014_10_402_-34.62728684562755_-58.41898234920384_tbaRgYgejwUdVhKSzegKnQ.jpg'],\n       [0.136781733578617, 0.1907802185910615, 0.064170544313386,\n        0.0293258305378205, 0.1350503192295206, 0.1837463477978573,\n        0.1486852072286549, 0.1114597987230819, 'BuenosAires',\n        'BuenosAires_0000003_2017_11_423_-34.62730767649556_-58.41901690362586_Lqe2NTBS_CpadWTB0dzs0w.jpg'],\n       [0.1868244575936883, 0.1678500986193294, 0.0920710059171597,\n        0.0154635108481262, 0.0434319526627218, 0.1744378698224852,\n        0.2040631163708086, 0.1158579881656804, 'BuenosAires',\n        'BuenosAires_0000004_2013_10_429_-34.62712061784697_-58.41751209323155_ENIgGS3j169A_pQNwjAL-g.jpg'],\n       [0.3176027883162148, 0.0708491409888652, 0.1348508682643965,\n        0.002652601708769, 0.0144350883686499, 0.1363313901483606,\n        0.2842602017211066, 0.0390179204836371, 'BuenosAires',\n        'BuenosAires_0000004_2014_10_424_-34.62713191458953_-58.4174970515142_tryqzF-LHcsl3NGUasg24w.jpg'],\n       [0.1681753215817055, 0.1673177703668413, 0.0678894711767508,\n        0.0497856121962839, 0.1141019533111005, 0.1325869461648404,\n        0.1388756550738447, 0.1612672701286326, 'BuenosAires',\n        'BuenosAires_0000004_2017_09_403_-34.6271348547718_-58.41747475424257_g-vTPyg6HcTbMXTKD3r7OA.jpg'],\n       [0.287042807152102, 0.0972388667849096, 0.16192895834332,\n        0.0114807535592732, 0.0484876084559704, 0.1184506974737548,\n        0.188653468194238, 0.0867168400364316, 'BuenosAires',\n        'BuenosAires_0000004_2017_11_430_-34.62713682674498_-58.41753711690254_bQxFdr5mNsSvzNA8u3c2UA.jpg'],\n       [0.2130782918149466, 0.1173487544483985, 0.1054270462633451,\n        0.0240213523131672, 0.0623665480427046, 0.1572953736654804,\n        0.2358540925266904, 0.0846085409252669, 'BuenosAires',\n        'BuenosAires_0000005_2013_10_045_-34.62716532351798_-58.4160074657535_ig9r7ukI5b3ODaNJasKIhw.jpg']],\n      dtype=object)"
     },
     "execution_count": 50,
     "metadata": {},
     "output_type": "execute_result"
    }
   ],
   "source": [
    "Bue_np[:10]"
   ],
   "metadata": {
    "collapsed": false,
    "ExecuteTime": {
     "start_time": "2023-08-06T12:44:15.362362Z",
     "end_time": "2023-08-06T12:44:15.364459Z"
    }
   }
  },
  {
   "cell_type": "code",
   "execution_count": null,
   "outputs": [],
   "source": [],
   "metadata": {
    "collapsed": false
   }
  }
 ],
 "metadata": {
  "kernelspec": {
   "display_name": "Python 3",
   "language": "python",
   "name": "python3"
  },
  "language_info": {
   "codemirror_mode": {
    "name": "ipython",
    "version": 2
   },
   "file_extension": ".py",
   "mimetype": "text/x-python",
   "name": "python",
   "nbconvert_exporter": "python",
   "pygments_lexer": "ipython2",
   "version": "2.7.6"
  }
 },
 "nbformat": 4,
 "nbformat_minor": 0
}
