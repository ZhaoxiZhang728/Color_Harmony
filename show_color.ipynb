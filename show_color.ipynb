{
 "cells": [
  {
   "cell_type": "code",
   "execution_count": 4,
   "metadata": {
    "collapsed": true,
    "ExecuteTime": {
     "start_time": "2023-08-16T20:11:17.914611Z",
     "end_time": "2023-08-16T20:11:18.038665Z"
    }
   },
   "outputs": [],
   "source": [
    "import pandas as pd\n",
    "import numpy as np\n",
    "import matplotlib.pyplot as plt\n",
    "from skimage.color import rgb2lab, lab2rgb,rgb2hsv,hsv2rgb"
   ]
  },
  {
   "cell_type": "code",
   "execution_count": 36,
   "outputs": [],
   "source": [
    "colors_centers_Bue = pd.read_csv(f'/Users/zhxzhang/DataspellProjects/Color_harmony/Result/Code_Result/BuenosAires_0.01_Modified_Kmean.csv')\n",
    "\n",
    "colors_centers_Bue = pd.read_csv(f'/Users/zhxzhang/DataspellProjects/Color_harmony/Result/Code_Result/BuenosAires_0.01_Modified_Kmean.csv')"
   ],
   "metadata": {
    "collapsed": false,
    "ExecuteTime": {
     "start_time": "2023-08-16T20:19:39.973542Z",
     "end_time": "2023-08-16T20:19:39.979150Z"
    }
   }
  },
  {
   "cell_type": "code",
   "execution_count": 37,
   "outputs": [],
   "source": [
    "palette = colors_centers.values"
   ],
   "metadata": {
    "collapsed": false,
    "ExecuteTime": {
     "start_time": "2023-08-16T20:19:40.273837Z",
     "end_time": "2023-08-16T20:19:40.280074Z"
    }
   }
  },
  {
   "cell_type": "code",
   "execution_count": 38,
   "outputs": [],
   "source": [
    "palette = lab2rgb(palette)"
   ],
   "metadata": {
    "collapsed": false,
    "ExecuteTime": {
     "start_time": "2023-08-16T20:19:40.556025Z",
     "end_time": "2023-08-16T20:19:40.562129Z"
    }
   }
  },
  {
   "cell_type": "code",
   "execution_count": 39,
   "outputs": [],
   "source": [
    "def perceived_brightness(rgb_color):\n",
    "    r, g, b = rgb_color[:,0],rgb_color[:,1],rgb_color[:,2]\n",
    "    return np.sqrt(0.299 * r**2 + 0.587 * g**2 + 0.114 * b**2)\n",
    "\n",
    "def sort_colors_by_brightness(rgb_array):\n",
    "    # Calculate the perceived brightness for each color in the RGB array\n",
    "    brightness_values = perceived_brightness(rgb_array)\n",
    "    print(brightness_values)\n",
    "    # Sort the RGB array based on the calculated brightness values\n",
    "    sorted_rgb_array = [color for _, color in sorted(zip(brightness_values, rgb_array))]\n",
    "\n",
    "    return np.array(sorted_rgb_array)"
   ],
   "metadata": {
    "collapsed": false,
    "ExecuteTime": {
     "start_time": "2023-08-16T20:19:40.750189Z",
     "end_time": "2023-08-16T20:19:40.754607Z"
    }
   }
  },
  {
   "cell_type": "code",
   "execution_count": 40,
   "outputs": [
    {
     "name": "stdout",
     "output_type": "stream",
     "text": [
      "[0.30898023 0.2874546  0.15469743 0.2159185  0.29938524 0.45221271\n",
      " 0.13063543 0.21001571]\n"
     ]
    }
   ],
   "source": [
    "sorted_palette = sort_colors_by_brightness(palette)"
   ],
   "metadata": {
    "collapsed": false,
    "ExecuteTime": {
     "start_time": "2023-08-16T20:19:40.994938Z",
     "end_time": "2023-08-16T20:19:40.999329Z"
    }
   }
  },
  {
   "cell_type": "code",
   "execution_count": 41,
   "outputs": [],
   "source": [
    "sorted_palette = sorted_palette.reshape(1,-1,3)"
   ],
   "metadata": {
    "collapsed": false,
    "ExecuteTime": {
     "start_time": "2023-08-16T20:19:41.287581Z",
     "end_time": "2023-08-16T20:19:41.291171Z"
    }
   }
  },
  {
   "cell_type": "code",
   "execution_count": 42,
   "outputs": [
    {
     "data": {
      "text/plain": "<Figure size 2000x400 with 1 Axes>",
      "image/png": "[encoded data removed]"
     },
     "metadata": {},
     "output_type": "display_data"
    }
   ],
   "source": [
    "plt.figure(figsize=(20,4))\n",
    "plt.imshow(sorted_palette),plt.title('LA'),plt.axis('off')\n",
    "plt.show()"
   ],
   "metadata": {
    "collapsed": false,
    "ExecuteTime": {
     "start_time": "2023-08-16T20:19:41.578871Z",
     "end_time": "2023-08-16T20:19:41.638305Z"
    }
   }
  },
  {
   "cell_type": "code",
   "execution_count": 13,
   "outputs": [],
   "source": [],
   "metadata": {
    "collapsed": false,
    "ExecuteTime": {
     "start_time": "2023-08-16T20:15:19.813577Z",
     "end_time": "2023-08-16T20:15:19.816905Z"
    }
   }
  }
 ],
 "metadata": {
  "kernelspec": {
   "display_name": "Python 3",
   "language": "python",
   "name": "python3"
  },
  "language_info": {
   "codemirror_mode": {
    "name": "ipython",
    "version": 2
   },
   "file_extension": ".py",
   "mimetype": "text/x-python",
   "name": "python",
   "nbconvert_exporter": "python",
   "pygments_lexer": "ipython2",
   "version": "2.7.6"
  }
 },
 "nbformat": 4,
 "nbformat_minor": 0
}
