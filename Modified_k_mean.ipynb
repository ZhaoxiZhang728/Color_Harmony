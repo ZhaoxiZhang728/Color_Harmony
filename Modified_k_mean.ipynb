{
 "cells": [
  {
   "cell_type": "code",
   "execution_count": 1,
   "metadata": {
    "collapsed": true,
    "ExecuteTime": {
     "start_time": "2023-08-16T20:03:47.917405Z",
     "end_time": "2023-08-16T20:03:48.860333Z"
    }
   },
   "outputs": [],
   "source": [
    "import numpy as np\n",
    "import pandas as pd\n",
    "from sklearn.cluster import KMeans\n",
    "from skimage.io import imread\n",
    "from skimage.color import rgb2lab, lab2rgb,rgb2hsv,hsv2rgb\n",
    "import matplotlib.pyplot as plt"
   ]
  },
  {
   "cell_type": "code",
   "execution_count": 27,
   "outputs": [],
   "source": [
    "df = pd.read_csv('./Result/BuenosAires_filtered_lab.csv')"
   ],
   "metadata": {
    "collapsed": false,
    "ExecuteTime": {
     "start_time": "2023-08-16T21:29:26.835963Z",
     "end_time": "2023-08-16T21:29:34.115132Z"
    }
   }
  },
  {
   "cell_type": "code",
   "execution_count": 28,
   "outputs": [],
   "source": [
    "lab = df.values[:,1:]"
   ],
   "metadata": {
    "collapsed": false,
    "ExecuteTime": {
     "start_time": "2023-08-16T21:30:12.690172Z",
     "end_time": "2023-08-16T21:30:12.847966Z"
    }
   }
  },
  {
   "cell_type": "code",
   "execution_count": 29,
   "outputs": [],
   "source": [
    "def Modified_K_mean(lab, k,threshold,colors_number_threhold = False):\n",
    "    km = KMeans(\n",
    "        n_clusters=k, init='random',\n",
    "        n_init=10, max_iter=100,\n",
    "        tol=1e-04, random_state=42\n",
    "    )\n",
    "    km.fit(lab)\n",
    "    print(f'K = {k} is done ')\n",
    "\n",
    "    ori_RC = np.array(km.cluster_centers_).astype(np.float32)\n",
    "\n",
    "    # get the hue of the centroids of the clusters to filter out the\n",
    "    H_RC = rgb2hsv(lab2rgb(ori_RC))[:,0]\n",
    "\n",
    "    H_RC = H_RC.reshape(-1,1)\n",
    "\n",
    "    RC_combination = np.concatenate((H_RC,ori_RC),axis=1)\n",
    "\n",
    "    # sort the hue ascending , the closet neighbor is the value front and after\n",
    "    RC_comb_sorted = RC_combination[RC_combination[:, 0].argsort()]\n",
    "    print(RC_comb_sorted[:5])\n",
    "    RCs = []\n",
    "    if colors_number_threhold:\n",
    "        for _ in range(len(RC_comb_sorted)):\n",
    "            hue =  RC_comb_sorted[_,0]\n",
    "            if _ == 0:\n",
    "                hue_after = RC_comb_sorted[_+1,0]\n",
    "                dis_1 = 0 # just to make the progress consistent\n",
    "                dis_2 = hue_after - hue\n",
    "            elif _ == len(RC_comb_sorted) -1:\n",
    "                hue_front = RC_comb_sorted[_-1,0]\n",
    "                dis_2 = 0 # just to make the progress consistent\n",
    "                dis_1 = hue - hue_front\n",
    "            else:\n",
    "                hue_front = RC_comb_sorted[_-1,0]\n",
    "                hue_after = RC_comb_sorted[_+1,0]\n",
    "                dis_1 = hue - hue_front\n",
    "                dis_2 = hue_after - hue\n",
    "\n",
    "\n",
    "\n",
    "            if (dis_2 >= threshold) and (dis_1 >= threshold):\n",
    "                RCs.append(RC_comb_sorted[_,1:])\n",
    "    else:\n",
    "        for _ in range(len(RC_comb_sorted)):\n",
    "            hue =  RC_comb_sorted[_,0]\n",
    "            if _ == 0:\n",
    "                hue_after = RC_comb_sorted[_+1,0]\n",
    "                dis_1 = 1 # just to make the progress consistent\n",
    "                dis_2 = hue_after - hue\n",
    "            elif _ == len(RC_comb_sorted) -1:\n",
    "                hue_front = RC_comb_sorted[_-1,0]\n",
    "                dis_2 = 1 # just to make the progress consistent\n",
    "                dis_1 = hue - hue_front\n",
    "            else:\n",
    "                hue_front = RC_comb_sorted[_-1,0]\n",
    "                hue_after = RC_comb_sorted[_+1,0]\n",
    "                dis_1 = hue - hue_front\n",
    "                dis_2 = hue_after - hue\n",
    "\n",
    "\n",
    "\n",
    "            if (dis_2 <= threshold[1]) and (dis_1 <= threshold[1]) and (dis_2 >= threshold[0]) and (dis_1 >= threshold[0]) :\n",
    "                RCs.append(RC_comb_sorted[_,1:])\n",
    "    return RCs\n",
    "\n",
    "\n",
    "\n"
   ],
   "metadata": {
    "collapsed": false,
    "ExecuteTime": {
     "start_time": "2023-08-16T21:30:13.540377Z",
     "end_time": "2023-08-16T21:30:13.542769Z"
    }
   }
  },
  {
   "cell_type": "code",
   "execution_count": 38,
   "outputs": [
    {
     "name": "stdout",
     "output_type": "stream",
     "text": [
      "K = 128 is done \n",
      "[[3.17400433e-02 3.20416451e+01 1.79183407e+01 1.44622345e+01]\n",
      " [5.11009730e-02 1.07921934e+01 2.81388187e+00 3.46816587e+00]\n",
      " [5.93326651e-02 1.77267704e+01 3.29972434e+00 4.98406315e+00]\n",
      " [6.96111843e-02 3.10920486e+01 6.82571769e-01 1.49816763e+00]\n",
      " [8.42344761e-02 2.49510460e+01 1.90604818e+00 6.36895084e+00]]\n"
     ]
    }
   ],
   "source": [
    "RC = Modified_K_mean(lab=lab,k=128,threshold=[0.005,1])"
   ],
   "metadata": {
    "collapsed": false,
    "ExecuteTime": {
     "start_time": "2023-08-16T21:40:55.929156Z",
     "end_time": "2023-08-16T21:51:04.898171Z"
    }
   }
  },
  {
   "cell_type": "code",
   "execution_count": 39,
   "outputs": [
    {
     "data": {
      "text/plain": "8"
     },
     "execution_count": 39,
     "metadata": {},
     "output_type": "execute_result"
    }
   ],
   "source": [
    "\n",
    "len(RC)"
   ],
   "metadata": {
    "collapsed": false,
    "ExecuteTime": {
     "start_time": "2023-08-16T22:19:02.168849Z",
     "end_time": "2023-08-16T22:19:02.180461Z"
    }
   }
  },
  {
   "cell_type": "code",
   "execution_count": 40,
   "outputs": [],
   "source": [
    "RC = np.array(RC)"
   ],
   "metadata": {
    "collapsed": false,
    "ExecuteTime": {
     "start_time": "2023-08-16T22:19:02.847526Z",
     "end_time": "2023-08-16T22:19:02.853963Z"
    }
   }
  },
  {
   "cell_type": "code",
   "execution_count": 41,
   "outputs": [],
   "source": [
    "sc_palette = lab2rgb(RC).reshape((1,-1,3))"
   ],
   "metadata": {
    "collapsed": false,
    "ExecuteTime": {
     "start_time": "2023-08-16T22:19:03.179236Z",
     "end_time": "2023-08-16T22:19:03.180703Z"
    }
   }
  },
  {
   "cell_type": "code",
   "execution_count": 42,
   "outputs": [
    {
     "data": {
      "text/plain": "array([[[0.1360685 , 0.10826994, 0.09597794],\n        [0.19965056, 0.16305774, 0.14282978],\n        [0.29536825, 0.28518683, 0.2778844 ],\n        [0.2584674 , 0.22707814, 0.19500259],\n        [0.22618005, 0.18613404, 0.12696451],\n        [0.1920017 , 0.23057821, 0.19622847],\n        [0.43796703, 0.44433364, 0.523574  ],\n        [0.13026828, 0.1250836 , 0.1569303 ]]], dtype=float32)"
     },
     "execution_count": 42,
     "metadata": {},
     "output_type": "execute_result"
    }
   ],
   "source": [
    "sc_palette"
   ],
   "metadata": {
    "collapsed": false,
    "ExecuteTime": {
     "start_time": "2023-08-16T22:19:04.228228Z",
     "end_time": "2023-08-16T22:19:04.239216Z"
    }
   }
  },
  {
   "cell_type": "code",
   "execution_count": 43,
   "outputs": [],
   "source": [
    "sc_palette_df = pd.DataFrame(RC)"
   ],
   "metadata": {
    "collapsed": false,
    "ExecuteTime": {
     "start_time": "2023-08-16T22:19:04.774960Z",
     "end_time": "2023-08-16T22:19:04.777599Z"
    }
   }
  },
  {
   "cell_type": "code",
   "execution_count": 44,
   "outputs": [],
   "source": [
    "sc_palette_df.to_csv('./Result/Code_Result/LosAngeles_0.005_Modified_Kmean.csv',index=False)"
   ],
   "metadata": {
    "collapsed": false,
    "ExecuteTime": {
     "start_time": "2023-08-16T22:19:05.669273Z",
     "end_time": "2023-08-16T22:19:05.675721Z"
    }
   }
  },
  {
   "cell_type": "code",
   "execution_count": 45,
   "outputs": [
    {
     "data": {
      "text/plain": "(Text(0.5, 1.0, 'BuenosAires Modified LAB'),\n <matplotlib.image.AxesImage at 0x3c5fc2580>,\n (-0.5, 7.5, 0.5, -0.5))"
     },
     "execution_count": 45,
     "metadata": {},
     "output_type": "execute_result"
    },
    {
     "data": {
      "text/plain": "<Figure size 2000x400 with 1 Axes>",
      "image/png": "[encoded data removed]"
     },
     "metadata": {},
     "output_type": "display_data"
    }
   ],
   "source": [
    "plt.figure(figsize=(20,4))\n",
    "plt.title('BuenosAires Modified LAB'),plt.imshow(sc_palette),plt.axis('off')\n",
    "#plt.savefig('./Result/Code_Result/BuenosAires_0.01_0.03_Modified_Kmean.png',dpi=300)"
   ],
   "metadata": {
    "collapsed": false,
    "ExecuteTime": {
     "start_time": "2023-08-16T22:19:05.986316Z",
     "end_time": "2023-08-16T22:19:06.047533Z"
    }
   }
  },
  {
   "cell_type": "code",
   "execution_count": 26,
   "outputs": [],
   "source": [
    "import palette_reduction as pr"
   ],
   "metadata": {
    "collapsed": false,
    "ExecuteTime": {
     "start_time": "2023-08-15T21:01:22.174618Z",
     "end_time": "2023-08-15T21:01:22.183987Z"
    }
   }
  },
  {
   "cell_type": "code",
   "execution_count": 44,
   "outputs": [],
   "source": [
    "def perceived_brightness(rgb_color):\n",
    "    r, g, b = rgb_color[:,0],rgb_color[:,1],rgb_color[:,2]\n",
    "    return np.sqrt(0.299 * r**2 + 0.587 * g**2 + 0.114 * b**2)\n",
    "\n",
    "def sort_colors_by_brightness(rgb_array):\n",
    "    # Calculate the perceived brightness for each color in the RGB array\n",
    "    brightness_values = perceived_brightness(rgb_array)\n",
    "    # Sort the RGB array based on the calculated brightness values\n",
    "    sorted_rgb_array = [color for _, color in sorted(zip(brightness_values, rgb_array))]\n",
    "\n",
    "    return np.array(sorted_rgb_array)"
   ],
   "metadata": {
    "collapsed": false,
    "ExecuteTime": {
     "start_time": "2023-08-15T21:25:47.524683Z",
     "end_time": "2023-08-15T21:25:47.531084Z"
    }
   }
  },
  {
   "cell_type": "code",
   "execution_count": 45,
   "outputs": [],
   "source": [
    "df = pd.read_csv('./Result/Code_Result/LosAngeles_0.01_Modified_Kmean.csv')\n",
    "center = df.values\n",
    "rgb = lab2rgb(center)"
   ],
   "metadata": {
    "collapsed": false,
    "ExecuteTime": {
     "start_time": "2023-08-15T21:25:48.151261Z",
     "end_time": "2023-08-15T21:25:48.158477Z"
    }
   }
  },
  {
   "cell_type": "code",
   "execution_count": 46,
   "outputs": [
    {
     "name": "stdout",
     "output_type": "stream",
     "text": [
      "Extracting palette...\n",
      "original vertices number: 9\n",
      "final vertices number: 6\n",
      "Palette extracted.\n"
     ]
    }
   ],
   "source": [
    "RC = pr.get_palette(6,rgb,'')"
   ],
   "metadata": {
    "collapsed": false,
    "ExecuteTime": {
     "start_time": "2023-08-15T21:25:48.488958Z",
     "end_time": "2023-08-15T21:25:48.510875Z"
    }
   }
  },
  {
   "cell_type": "code",
   "execution_count": 47,
   "outputs": [],
   "source": [
    "rgb_sorted = sort_colors_by_brightness(RC)\n",
    "Rc = rgb_sorted.reshape(1,-1,3)"
   ],
   "metadata": {
    "collapsed": false,
    "ExecuteTime": {
     "start_time": "2023-08-15T21:25:49.068001Z",
     "end_time": "2023-08-15T21:25:49.072290Z"
    }
   }
  },
  {
   "cell_type": "code",
   "execution_count": 48,
   "outputs": [],
   "source": [
    "df = pd.read_csv('./Result/Code_Result/BuenosAires_0.01_Modified_Kmean.csv')\n",
    "center = df.values\n",
    "center_sorted = sort_colors_by_brightness(center)\n",
    "center = lab2rgb(center_sorted).reshape(1,-1,3)"
   ],
   "metadata": {
    "collapsed": false,
    "ExecuteTime": {
     "start_time": "2023-08-15T21:25:50.557047Z",
     "end_time": "2023-08-15T21:25:50.563581Z"
    }
   }
  },
  {
   "cell_type": "code",
   "execution_count": 49,
   "outputs": [
    {
     "data": {
      "text/plain": "array([[[0.13026824, 0.12508361, 0.15693031],\n        [0.13557201, 0.16670825, 0.1364349 ],\n        [0.2109094 , 0.20769866, 0.21932539],\n        [0.19200177, 0.23057819, 0.19622849],\n        [0.29536821, 0.28518688, 0.27788443],\n        [0.2731773 , 0.31376121, 0.28913873],\n        [0.42327081, 0.25062883, 0.21001667],\n        [0.43796707, 0.44433365, 0.52357402]]])"
     },
     "execution_count": 49,
     "metadata": {},
     "output_type": "execute_result"
    }
   ],
   "source": [
    "center"
   ],
   "metadata": {
    "collapsed": false,
    "ExecuteTime": {
     "start_time": "2023-08-15T21:25:51.645731Z",
     "end_time": "2023-08-15T21:25:51.649358Z"
    }
   }
  },
  {
   "cell_type": "code",
   "execution_count": 19,
   "outputs": [],
   "source": [
    "points = np.random.randint(0, 1, size=(1,12, 5))"
   ],
   "metadata": {
    "collapsed": false,
    "ExecuteTime": {
     "start_time": "2023-08-16T09:48:01.192664Z",
     "end_time": "2023-08-16T09:48:01.195782Z"
    }
   }
  },
  {
   "cell_type": "code",
   "execution_count": 46,
   "outputs": [
    {
     "ename": "NameError",
     "evalue": "name 'points' is not defined",
     "output_type": "error",
     "traceback": [
      "\u001B[0;31m---------------------------------------------------------------------------\u001B[0m",
      "\u001B[0;31mNameError\u001B[0m                                 Traceback (most recent call last)",
      "Cell \u001B[0;32mIn[46], line 2\u001B[0m\n\u001B[1;32m      1\u001B[0m plt\u001B[38;5;241m.\u001B[39mfigure(figsize\u001B[38;5;241m=\u001B[39m(\u001B[38;5;241m20\u001B[39m,\u001B[38;5;241m4\u001B[39m))\n\u001B[0;32m----> 2\u001B[0m plt\u001B[38;5;241m.\u001B[39msubplot(\u001B[38;5;241m211\u001B[39m),plt\u001B[38;5;241m.\u001B[39mtitle(\u001B[38;5;124m'\u001B[39m\u001B[38;5;124mLA Modified LAB\u001B[39m\u001B[38;5;124m'\u001B[39m),plt\u001B[38;5;241m.\u001B[39mimshow(\u001B[43mpoints\u001B[49m),plt\u001B[38;5;241m.\u001B[39maxis(\u001B[38;5;124m'\u001B[39m\u001B[38;5;124moff\u001B[39m\u001B[38;5;124m'\u001B[39m)\n\u001B[1;32m      4\u001B[0m plt\u001B[38;5;241m.\u001B[39mshow()\n",
      "\u001B[0;31mNameError\u001B[0m: name 'points' is not defined"
     ]
    },
    {
     "data": {
      "text/plain": "<Figure size 2000x400 with 1 Axes>",
      "image/png": "[encoded data removed]"
     },
     "metadata": {},
     "output_type": "display_data"
    }
   ],
   "source": [
    "plt.figure(figsize=(20,4))\n",
    "plt.subplot(211),plt.title('LA Modified LAB'),plt.imshow(points),plt.axis('off')\n",
    "\n",
    "plt.show()\n",
    "#plt.savefig('./Result/Code_Result/BuenosAires_0.01_Modified_Kmean.png',dpi=300)"
   ],
   "metadata": {
    "collapsed": false,
    "ExecuteTime": {
     "start_time": "2023-08-16T09:47:49.153885Z",
     "end_time": "2023-08-16T09:47:49.178664Z"
    }
   }
  },
  {
   "cell_type": "code",
   "execution_count": null,
   "outputs": [],
   "source": [],
   "metadata": {
    "collapsed": false
   }
  }
 ],
 "metadata": {
  "kernelspec": {
   "display_name": "Python 3",
   "language": "python",
   "name": "python3"
  },
  "language_info": {
   "codemirror_mode": {
    "name": "ipython",
    "version": 2
   },
   "file_extension": ".py",
   "mimetype": "text/x-python",
   "name": "python",
   "nbconvert_exporter": "python",
   "pygments_lexer": "ipython2",
   "version": "2.7.6"
  }
 },
 "nbformat": 4,
 "nbformat_minor": 0
}
